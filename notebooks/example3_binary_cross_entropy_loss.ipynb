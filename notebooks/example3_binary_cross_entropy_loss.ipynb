{
 "cells": [
  {
   "cell_type": "markdown",
   "metadata": {},
   "source": [
    "# Implementation of Binary Cross-entropy loss using Numpy\n",
    "\n",
    "Here is a simple implementation of the binary cross-entropy loss in `numpy`.\n",
    "Notice how we need to clip the predictions, so that we don't get any zeros in the logarithms.\n",
    "\n",
    "Try changing the values of the predicted labels, and see how that affects the loss.\n",
    "\n",
    "Note that in general, the ground truth corresponds to one of the two classes, 0 or 1, while the predicted values are probabilities of the sample belonging to the positive class."
   ]
  },
  {
   "cell_type": "code",
   "execution_count": null,
   "metadata": {},
   "outputs": [],
   "source": [
    "import numpy as np\n",
    "\n",
    "\n",
    "def binary_cross_entropy(y_pred, y_true):\n",
    "    \"\"\"\n",
    "    Calculate binary cross entropy loss\n",
    "    \n",
    "    Parameters:\n",
    "    y_pred: Predicted probabilities (between 0 and 1)\n",
    "    y_true: Ground truth labels (0 or 1)\n",
    "    \n",
    "    Returns:\n",
    "    Binary cross entropy loss\n",
    "    \"\"\"\n",
    "    # Clip predictions to avoid log(0)\n",
    "    y_pred = np.clip(y_pred, 1e-15, 1 - 1e-15)\n",
    "    \n",
    "    # Calculate binary cross entropy\n",
    "    loss = -(y_true * np.log(y_pred) + (1 - y_true) * np.log(1 - y_pred))\n",
    "    \n",
    "    return np.mean(loss)\n",
    "\n",
    "\n",
    "y_pred = np.array([0.9, 0.2, 0.8, 0.1])\n",
    "y_true = np.array([0, 1, 1, 0])\n",
    "\n",
    "loss = binary_cross_entropy(y_pred, y_true)\n",
    "print(f\"Binary Cross Entropy Loss: {loss}\")\n"
   ]
  },
  {
   "cell_type": "markdown",
   "metadata": {},
   "source": [
    "# Binary-cross entropy in PyTorch\n",
    "\n",
    "Here, we use PyTorch's implementation of the same loss function.\n",
    "We use the same predictions and ground truth values as before"
   ]
  },
  {
   "cell_type": "code",
   "execution_count": null,
   "metadata": {},
   "outputs": [],
   "source": [
    "import torch\n",
    "import torch.nn as nn\n",
    "\n",
    "loss = nn.BCELoss()\n",
    "y_pred_tensor = torch.from_numpy(y_pred).float()\n",
    "y_true_tensor = torch.from_numpy(y_true).float()\n",
    "\n",
    "loss(y_pred_tensor, y_true_tensor)"
   ]
  },
  {
   "cell_type": "markdown",
   "metadata": {},
   "source": [
    "# Bonus if time"
   ]
  },
  {
   "cell_type": "markdown",
   "metadata": {},
   "source": [
    "PyTorch has special handling of cases where the arguments to the log function are (near) zero. Here, we mimic the same behavior in numpy"
   ]
  },
  {
   "cell_type": "code",
   "execution_count": null,
   "metadata": {},
   "outputs": [],
   "source": [
    "import numpy as np\n",
    "\n",
    "\n",
    "def pytorch_log(x):\n",
    "    out = []\n",
    "    for xx in x:\n",
    "        if not np.isclose(xx, 0.0):\n",
    "            out.append(np.log(xx))\n",
    "        else:\n",
    "            out.append(-100)\n",
    "    return out\n",
    "\n",
    "\n",
    "\n",
    "def binary_cross_entropy_pytorch(y_pred, y_true):\n",
    "    \"\"\"\n",
    "    Calculate binary cross entropy loss\n",
    "    \n",
    "    Parameters:\n",
    "    y_pred: Predicted probabilities (between 0 and 1)\n",
    "    y_true: Ground truth labels (0 or 1)\n",
    "    \n",
    "    Returns:\n",
    "    Binary cross entropy loss\n",
    "    \"\"\"\n",
    "    # Clip predictions to avoid log(0)\n",
    "    # y_pred = np.clip(y_pred, 1e-15, 1 - 1e-15)\n",
    "    \n",
    "    # Calculate binary cross entropy\n",
    "    loss = -(y_true * pytorch_log(y_pred) + (1 - y_true) * pytorch_log(1 - y_pred))\n",
    "    \n",
    "    return np.mean(loss)\n",
    "\n",
    "\n",
    "loss = binary_cross_entropy_pytorch(y_pred, y_true)\n",
    "print(f\"Binary Cross Entropy Loss: {loss}\")"
   ]
  }
 ],
 "metadata": {
  "kernelspec": {
   "display_name": ".venv",
   "language": "python",
   "name": "python3"
  },
  "language_info": {
   "codemirror_mode": {
    "name": "ipython",
    "version": 3
   },
   "file_extension": ".py",
   "mimetype": "text/x-python",
   "name": "python",
   "nbconvert_exporter": "python",
   "pygments_lexer": "ipython3",
   "version": "3.12.8"
  }
 },
 "nbformat": 4,
 "nbformat_minor": 2
}
